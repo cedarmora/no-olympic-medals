{
 "cells": [
  {
   "cell_type": "markdown",
   "metadata": {},
   "source": [
    "Needs a few dependencies, at minimum do:\n",
    "\n",
    "pip install lxml geopandas pycountry fsspec"
   ]
  },
  {
   "cell_type": "code",
   "execution_count": 10,
   "metadata": {},
   "outputs": [],
   "source": [
    "import pandas as pd\n",
    "import pycountry"
   ]
  },
  {
   "cell_type": "code",
   "execution_count": 11,
   "metadata": {},
   "outputs": [
    {
     "name": "stdout",
     "output_type": "stream",
     "text": [
      "                 Team (IOC code)  No. Summer  No. Winter  No. Games\n",
      "0           American Samoa (ASA)          10           2         12\n",
      "1                  Andorra (AND)          13          13         26\n",
      "2                   Angola (ANG)          11           0         11\n",
      "3      Antigua and Barbuda (ANT)          12           0         12\n",
      "4                    Aruba (ARU)          10           0         10\n",
      "..                           ...         ...         ...        ...\n",
      "66       North Borneo (NBO)[NBO]           1           0          1\n",
      "67  Republic of China (ROC)[ROC]           3           0          3\n",
      "68               Saar (SAA)[SAA]           1           0          1\n",
      "69        North Yemen (YAR)[YAR]           2           0          2\n",
      "70        South Yemen (YMD)[YMD]           1           0          1\n",
      "\n",
      "[71 rows x 4 columns]\n"
     ]
    }
   ],
   "source": [
    "\n",
    "# Load the Wikipedia page\n",
    "url = \"https://en.wikipedia.org/wiki/All-time_Olympic_Games_medal_table\"\n",
    "tables = pd.read_html(url)\n",
    "\n",
    "# Assuming the third table is the one with the all-time medal data\n",
    "medal_table = tables[2]  # Adjust this index if necessary\n",
    "\n",
    "print(medal_table)"
   ]
  },
  {
   "cell_type": "markdown",
   "metadata": {},
   "source": [
    "def get_country_name(noc_code):\n",
    "    try:\n",
    "        return pycountry.countries.get(alpha_3=noc_code).name\n",
    "    except AttributeError:\n",
    "        return None\n",
    "\n",
    "countries_with_no_medals_names = [get_country_name(code) for code in countries_with_no_medals]"
   ]
  },
  {
   "cell_type": "markdown",
   "metadata": {},
   "source": [
    "import geopandas as gpd\n",
    "import matplotlib.pyplot as plt\n",
    "import fsspec\n",
    "\n",
    "# Load the world shapefile\n",
    "url = \"https://www.naturalearthdata.com/http//www.naturalearthdata.com/\" \\\n",
    "      \"download/110m/cultural/ne_110m_admin_0_countries.zip\"\n",
    "with fsspec.open(f\"simplecache::{url}\") as file:\n",
    "    gdf = gpd.read_file(file)\n",
    "\n",
    "\n",
    "# Filter countries with no medals\n",
    "no_medals_df = world[world['name'].isin(medal_table)]\n",
    "\n",
    "# Plot the map\n",
    "fig, ax = plt.subplots(1, 1, figsize=(15, 10))\n",
    "world.plot(ax=ax, color='lightgrey')\n",
    "no_medals_df.plot(ax=ax, color='red')\n",
    "\n",
    "plt.title('Countries with No Olympic Medals')\n",
    "plt.show()"
   ]
  },
  {
   "cell_type": "code",
   "execution_count": null,
   "metadata": {},
   "outputs": [],
   "source": []
  }
 ],
 "metadata": {
  "kernelspec": {
   "display_name": "Python 3",
   "language": "python",
   "name": "python3"
  },
  "language_info": {
   "codemirror_mode": {
    "name": "ipython",
    "version": 3
   },
   "file_extension": ".py",
   "mimetype": "text/x-python",
   "name": "python",
   "nbconvert_exporter": "python",
   "pygments_lexer": "ipython3",
   "version": "3.11.5"
  }
 },
 "nbformat": 4,
 "nbformat_minor": 2
}
